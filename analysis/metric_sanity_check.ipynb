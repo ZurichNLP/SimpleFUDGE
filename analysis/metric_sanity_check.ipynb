{
 "cells": [
  {
   "cell_type": "code",
   "execution_count": 2,
   "id": "908ce6f9",
   "metadata": {},
   "outputs": [],
   "source": [
    "from pathlib import Path\n",
    "from easse import sari, bleu, fkgl, bertscore, quality_estimation # samsa fails dep: tupa\n"
   ]
  },
  {
   "cell_type": "code",
   "execution_count": 10,
   "id": "6ac3138f",
   "metadata": {},
   "outputs": [],
   "source": [
    "def read_split_lines(file, n=3):\n",
    "    src_sents, refs_sents = [], []\n",
    "    with open(file, 'r', encoding='utf8') as f:\n",
    "        for i, line in enumerate(f):\n",
    "            if i == n:\n",
    "                break\n",
    "            line = line.strip().split('\\t')\n",
    "            if len(line) > 1:\n",
    "                src_sents.append(line[0])\n",
    "                refs_sents.append(line[1:])\n",
    "            else:\n",
    "                src_sents.append(line)\n",
    "\n",
    "    refs_sents = list(map(list, [*zip(*refs_sents)]))\n",
    "    \n",
    "    return src_sents, refs_sents\n",
    "\n",
    "src_sents, refs_sents = read_split_lines('/srv/scratch6/kew/ats/data/en/aligned/newsela_manual_v0_v1_test.tsv')\n"
   ]
  },
  {
   "cell_type": "code",
   "execution_count": 11,
   "id": "9bd7ea02",
   "metadata": {},
   "outputs": [
    {
     "data": {
      "text/plain": [
       "['SEATTLE — The Chinook tribes greeted Lewis and Clark when the explorers arrived at the Lower Columbia River in 1805.',\n",
       " 'The tribes helped members of the expedition through the winter, bringing them food and assisting with navigation.',\n",
       " 'More than 200 years after that first contact, the five tribes that now make up the Chinook Indian Nation have a constitution, a tribal council and annual meetings.']"
      ]
     },
     "execution_count": 11,
     "metadata": {},
     "output_type": "execute_result"
    }
   ],
   "source": [
    "src_sents"
   ]
  },
  {
   "cell_type": "code",
   "execution_count": 12,
   "id": "4f9d97d7",
   "metadata": {},
   "outputs": [
    {
     "data": {
      "text/plain": [
       "[['SEATTLE — The Chinook tribes greeted Lewis and Clark when the explorers arrived at the Lower Columbia River in 1805.',\n",
       "  'The tribes helped members of the expedition through the winter, bringing them food and assisting with navigation.',\n",
       "  'More than 200 years after that first contact, the five tribes that now make up the Chinook Indian Nation have a constitution, a tribal council and annual meetings.']]"
      ]
     },
     "execution_count": 12,
     "metadata": {},
     "output_type": "execute_result"
    }
   ],
   "source": [
    "refs_sents"
   ]
  },
  {
   "cell_type": "code",
   "execution_count": 16,
   "id": "dcdc2315",
   "metadata": {},
   "outputs": [],
   "source": [
    "hyp_sents = [\n",
    "    'Chinook tribes greeted Lewis and Clark when they arrived in the Lower Columbia River in 1805.',\n",
    "    'The tribes helped members of the expedition by bringing them food and helping with navigation.',\n",
    "    '',\n",
    "]"
   ]
  },
  {
   "cell_type": "code",
   "execution_count": 17,
   "id": "a467565a",
   "metadata": {},
   "outputs": [
    {
     "name": "stdout",
     "output_type": "stream",
     "text": [
      "15.549134266001737\n"
     ]
    }
   ],
   "source": [
    "print(sari.corpus_sari(src_sents, hyp_sents, refs_sents, legacy=False))"
   ]
  },
  {
   "cell_type": "code",
   "execution_count": null,
   "id": "81002aa8",
   "metadata": {},
   "outputs": [],
   "source": []
  }
 ],
 "metadata": {
  "kernelspec": {
   "display_name": "Python 3 (ipykernel)",
   "language": "python",
   "name": "python3"
  },
  "language_info": {
   "codemirror_mode": {
    "name": "ipython",
    "version": 3
   },
   "file_extension": ".py",
   "mimetype": "text/x-python",
   "name": "python",
   "nbconvert_exporter": "python",
   "pygments_lexer": "ipython3",
   "version": "3.8.5"
  }
 },
 "nbformat": 4,
 "nbformat_minor": 5
}
