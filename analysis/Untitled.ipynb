{
 "cells": [
  {
   "cell_type": "code",
   "execution_count": 25,
   "id": "8a0783ff",
   "metadata": {},
   "outputs": [],
   "source": []
  },
  {
   "cell_type": "code",
   "execution_count": 30,
   "id": "df874fd7",
   "metadata": {},
   "outputs": [
    {
     "data": {
      "text/html": [
       "<div>\n",
       "<style scoped>\n",
       "    .dataframe tbody tr th:only-of-type {\n",
       "        vertical-align: middle;\n",
       "    }\n",
       "\n",
       "    .dataframe tbody tr th {\n",
       "        vertical-align: top;\n",
       "    }\n",
       "\n",
       "    .dataframe thead th {\n",
       "        text-align: right;\n",
       "    }\n",
       "</style>\n",
       "<table border=\"1\" class=\"dataframe\">\n",
       "  <thead>\n",
       "    <tr style=\"text-align: right;\">\n",
       "      <th></th>\n",
       "      <th>Simp-1</th>\n",
       "      <th>Simp-2</th>\n",
       "      <th>Simp-3</th>\n",
       "      <th>Simp-4</th>\n",
       "    </tr>\n",
       "  </thead>\n",
       "  <tbody>\n",
       "    <tr>\n",
       "      <th>fkgl</th>\n",
       "      <td>7.967425</td>\n",
       "      <td>6.411884</td>\n",
       "      <td>4.911990</td>\n",
       "      <td>3.395687</td>\n",
       "    </tr>\n",
       "    <tr>\n",
       "      <th>Compression ratio</th>\n",
       "      <td>1.008842</td>\n",
       "      <td>0.981254</td>\n",
       "      <td>0.924650</td>\n",
       "      <td>0.848538</td>\n",
       "    </tr>\n",
       "    <tr>\n",
       "      <th>Sentence splits</th>\n",
       "      <td>1.194612</td>\n",
       "      <td>1.415581</td>\n",
       "      <td>1.548652</td>\n",
       "      <td>1.792057</td>\n",
       "    </tr>\n",
       "    <tr>\n",
       "      <th>Levenshtein similarity</th>\n",
       "      <td>0.903890</td>\n",
       "      <td>0.819974</td>\n",
       "      <td>0.734684</td>\n",
       "      <td>0.646108</td>\n",
       "    </tr>\n",
       "    <tr>\n",
       "      <th>Exact copies</th>\n",
       "      <td>0.441096</td>\n",
       "      <td>0.229462</td>\n",
       "      <td>0.132686</td>\n",
       "      <td>0.089844</td>\n",
       "    </tr>\n",
       "    <tr>\n",
       "      <th>Additions proportion</th>\n",
       "      <td>0.095019</td>\n",
       "      <td>0.170325</td>\n",
       "      <td>0.243690</td>\n",
       "      <td>0.299468</td>\n",
       "    </tr>\n",
       "    <tr>\n",
       "      <th>Deletions proportion</th>\n",
       "      <td>0.099040</td>\n",
       "      <td>0.198756</td>\n",
       "      <td>0.313716</td>\n",
       "      <td>0.431747</td>\n",
       "    </tr>\n",
       "    <tr>\n",
       "      <th>Lexical complexity score</th>\n",
       "      <td>8.559383</td>\n",
       "      <td>8.517484</td>\n",
       "      <td>8.467479</td>\n",
       "      <td>8.525171</td>\n",
       "    </tr>\n",
       "  </tbody>\n",
       "</table>\n",
       "</div>"
      ],
      "text/plain": [
       "                            Simp-1    Simp-2    Simp-3    Simp-4\n",
       "fkgl                      7.967425  6.411884  4.911990  3.395687\n",
       "Compression ratio         1.008842  0.981254  0.924650  0.848538\n",
       "Sentence splits           1.194612  1.415581  1.548652  1.792057\n",
       "Levenshtein similarity    0.903890  0.819974  0.734684  0.646108\n",
       "Exact copies              0.441096  0.229462  0.132686  0.089844\n",
       "Additions proportion      0.095019  0.170325  0.243690  0.299468\n",
       "Deletions proportion      0.099040  0.198756  0.313716  0.431747\n",
       "Lexical complexity score  8.559383  8.517484  8.467479  8.525171"
      ]
     },
     "execution_count": 30,
     "metadata": {},
     "output_type": "execute_result"
    }
   ],
   "source": [
    "from easse import fkgl, quality_estimation # samsa fails dep: tupa\n",
    "import pandas as pd\n",
    "\n",
    "def read_split_lines(filename, split_sep='\\t'):\n",
    "    \"\"\"from easse/utils/helpers.py\"\"\"\n",
    "    with open(filename, encoding=\"utf-8\") as f:\n",
    "        split_instances = []\n",
    "        for line in f:\n",
    "            split_instances.append([split.strip() for split in line.split(split_sep)])\n",
    "\n",
    "#     print(split_instances[:3])\n",
    "    return split_instances\n",
    "\n",
    "d = {}\n",
    "for level in [1, 2, 3, 4]:\n",
    "    src_sents, ref_sents = [], []\n",
    "    d.update({f'Simp-{level}': {}})\n",
    "#     for split in ['train', 'test', 'dev']:\n",
    "    for split in ['test']:\n",
    "        split_lines = read_split_lines(f'/srv/scratch6/kew/ats/data/en/aligned/newsela_manual_v0_v{level}_{split}.tsv')\n",
    "        src_sents += [i[0] for i in split_lines]\n",
    "        ref_sents += [i[1] for i in split_lines]\n",
    "    d[f'Simp-{level}']['fkgl'] = fkgl.corpus_fkgl(ref_sents)\n",
    "    d[f'Simp-{level}'].update(quality_estimation.corpus_quality_estimation(src_sents, ref_sents))\n",
    "\n",
    "# print(d)\n",
    "gdf = pd.DataFrame(d)\n",
    "gdf\n",
    "\n",
    "# gdf.drop(index=['Lexical complexity score'], inplace=True)\n",
    "gdf.plot(kind='bar')\n"
   ]
  },
  {
   "cell_type": "code",
   "execution_count": 31,
   "id": "09e797cf",
   "metadata": {},
   "outputs": [
    {
     "data": {
      "text/plain": [
       "<AxesSubplot:>"
      ]
     },
     "execution_count": 31,
     "metadata": {},
     "output_type": "execute_result"
    },
    {
     "data": {
      "image/png": "[encoded data removed]",
      "text/plain": [
       "<Figure size 432x288 with 1 Axes>"
      ]
     },
     "metadata": {
      "needs_background": "light"
     },
     "output_type": "display_data"
    }
   ],
   "source": []
  },
  {
   "cell_type": "code",
   "execution_count": 18,
   "id": "787e3162",
   "metadata": {},
   "outputs": [
    {
     "data": {
      "text/plain": [
       "['FKGLScorer',\n",
       " 'List',\n",
       " '__builtins__',\n",
       " '__cached__',\n",
       " '__doc__',\n",
       " '__file__',\n",
       " '__loader__',\n",
       " '__name__',\n",
       " '__package__',\n",
       " '__spec__',\n",
       " 'corpus_fkgl',\n",
       " 'count_syllables_in_sentence',\n",
       " 'count_words',\n",
       " 'normalize',\n",
       " 'to_sentences']"
      ]
     },
     "execution_count": 18,
     "metadata": {},
     "output_type": "execute_result"
    }
   ],
   "source": [
    "dir(fkgl)"
   ]
  },
  {
   "cell_type": "code",
   "execution_count": null,
   "id": "543add49",
   "metadata": {},
   "outputs": [],
   "source": []
  }
 ],
 "metadata": {
  "kernelspec": {
   "display_name": "Python 3 (ipykernel)",
   "language": "python",
   "name": "python3"
  },
  "language_info": {
   "codemirror_mode": {
    "name": "ipython",
    "version": 3
   },
   "file_extension": ".py",
   "mimetype": "text/x-python",
   "name": "python",
   "nbconvert_exporter": "python",
   "pygments_lexer": "ipython3",
   "version": "3.8.5"
  }
 },
 "nbformat": 4,
 "nbformat_minor": 5
}
