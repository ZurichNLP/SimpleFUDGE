{
 "cells": [
  {
   "cell_type": "code",
   "execution_count": 1,
   "id": "8b694217",
   "metadata": {},
   "outputs": [],
   "source": [
    "import pandas as pd"
   ]
  },
  {
   "cell_type": "code",
   "execution_count": 2,
   "id": "c0e97ba5",
   "metadata": {},
   "outputs": [
    {
     "data": {
      "text/html": [
       "<div>\n",
       "<style scoped>\n",
       "    .dataframe tbody tr th:only-of-type {\n",
       "        vertical-align: middle;\n",
       "    }\n",
       "\n",
       "    .dataframe tbody tr th {\n",
       "        vertical-align: top;\n",
       "    }\n",
       "\n",
       "    .dataframe thead th {\n",
       "        text-align: right;\n",
       "    }\n",
       "</style>\n",
       "<table border=\"1\" class=\"dataframe\">\n",
       "  <thead>\n",
       "    <tr style=\"text-align: right;\">\n",
       "      <th></th>\n",
       "      <th>slug</th>\n",
       "      <th>language</th>\n",
       "      <th>title</th>\n",
       "      <th>grade_level</th>\n",
       "      <th>version</th>\n",
       "      <th>filename</th>\n",
       "      <th>split</th>\n",
       "      <th>simp_level</th>\n",
       "    </tr>\n",
       "  </thead>\n",
       "  <tbody>\n",
       "    <tr>\n",
       "      <th>0</th>\n",
       "      <td>10dollarbill-woman</td>\n",
       "      <td>en</td>\n",
       "      <td>Tubman, Perkins or Roosevelt? Woman on $10 bil...</td>\n",
       "      <td>12.0</td>\n",
       "      <td>0</td>\n",
       "      <td>10dollarbill-woman.en.0.txt</td>\n",
       "      <td>train</td>\n",
       "      <td>0</td>\n",
       "    </tr>\n",
       "    <tr>\n",
       "      <th>1</th>\n",
       "      <td>10dollarbill-woman</td>\n",
       "      <td>en</td>\n",
       "      <td>Americans weigh in to choose the woman who wil...</td>\n",
       "      <td>8.0</td>\n",
       "      <td>1</td>\n",
       "      <td>10dollarbill-woman.en.1.txt</td>\n",
       "      <td>train</td>\n",
       "      <td>1</td>\n",
       "    </tr>\n",
       "    <tr>\n",
       "      <th>2</th>\n",
       "      <td>10dollarbill-woman</td>\n",
       "      <td>en</td>\n",
       "      <td>The $10 question: Who will be the new face on ...</td>\n",
       "      <td>6.0</td>\n",
       "      <td>2</td>\n",
       "      <td>10dollarbill-woman.en.2.txt</td>\n",
       "      <td>train</td>\n",
       "      <td>2</td>\n",
       "    </tr>\n",
       "    <tr>\n",
       "      <th>3</th>\n",
       "      <td>10dollarbill-woman</td>\n",
       "      <td>en</td>\n",
       "      <td>New $10 bill will have a theme and a woman's p...</td>\n",
       "      <td>5.0</td>\n",
       "      <td>3</td>\n",
       "      <td>10dollarbill-woman.en.3.txt</td>\n",
       "      <td>train</td>\n",
       "      <td>3</td>\n",
       "    </tr>\n",
       "    <tr>\n",
       "      <th>4</th>\n",
       "      <td>10dollarbill-woman</td>\n",
       "      <td>en</td>\n",
       "      <td>We will soon have an American woman's face on ...</td>\n",
       "      <td>3.0</td>\n",
       "      <td>4</td>\n",
       "      <td>10dollarbill-woman.en.4.txt</td>\n",
       "      <td>train</td>\n",
       "      <td>4</td>\n",
       "    </tr>\n",
       "    <tr>\n",
       "      <th>...</th>\n",
       "      <td>...</td>\n",
       "      <td>...</td>\n",
       "      <td>...</td>\n",
       "      <td>...</td>\n",
       "      <td>...</td>\n",
       "      <td>...</td>\n",
       "      <td>...</td>\n",
       "      <td>...</td>\n",
       "    </tr>\n",
       "    <tr>\n",
       "      <th>9560</th>\n",
       "      <td>zuckerberg-internet</td>\n",
       "      <td>en</td>\n",
       "      <td>Facebook CEO steps into public issues with glo...</td>\n",
       "      <td>12.0</td>\n",
       "      <td>0</td>\n",
       "      <td>zuckerberg-internet.en.0.txt</td>\n",
       "      <td>train</td>\n",
       "      <td>0</td>\n",
       "    </tr>\n",
       "    <tr>\n",
       "      <th>9561</th>\n",
       "      <td>zuckerberg-internet</td>\n",
       "      <td>en</td>\n",
       "      <td>Post this to your page: Facebook CEO wants to ...</td>\n",
       "      <td>9.0</td>\n",
       "      <td>1</td>\n",
       "      <td>zuckerberg-internet.en.1.txt</td>\n",
       "      <td>train</td>\n",
       "      <td>1</td>\n",
       "    </tr>\n",
       "    <tr>\n",
       "      <th>9562</th>\n",
       "      <td>zuckerberg-internet</td>\n",
       "      <td>en</td>\n",
       "      <td>Facebook CEO hits \"share\" to help bring the 'N...</td>\n",
       "      <td>7.0</td>\n",
       "      <td>2</td>\n",
       "      <td>zuckerberg-internet.en.2.txt</td>\n",
       "      <td>train</td>\n",
       "      <td>2</td>\n",
       "    </tr>\n",
       "    <tr>\n",
       "      <th>9563</th>\n",
       "      <td>zuckerberg-internet</td>\n",
       "      <td>en</td>\n",
       "      <td>Zuckerberg hopes people hit \"like\" on his glob...</td>\n",
       "      <td>5.0</td>\n",
       "      <td>3</td>\n",
       "      <td>zuckerberg-internet.en.3.txt</td>\n",
       "      <td>train</td>\n",
       "      <td>3</td>\n",
       "    </tr>\n",
       "    <tr>\n",
       "      <th>9564</th>\n",
       "      <td>zuckerberg-internet</td>\n",
       "      <td>en</td>\n",
       "      <td>Facebook CEO wants worldwide Web to live up to...</td>\n",
       "      <td>4.0</td>\n",
       "      <td>4</td>\n",
       "      <td>zuckerberg-internet.en.4.txt</td>\n",
       "      <td>train</td>\n",
       "      <td>4</td>\n",
       "    </tr>\n",
       "  </tbody>\n",
       "</table>\n",
       "<p>9565 rows × 8 columns</p>\n",
       "</div>"
      ],
      "text/plain": [
       "                     slug language  \\\n",
       "0      10dollarbill-woman       en   \n",
       "1      10dollarbill-woman       en   \n",
       "2      10dollarbill-woman       en   \n",
       "3      10dollarbill-woman       en   \n",
       "4      10dollarbill-woman       en   \n",
       "...                   ...      ...   \n",
       "9560  zuckerberg-internet       en   \n",
       "9561  zuckerberg-internet       en   \n",
       "9562  zuckerberg-internet       en   \n",
       "9563  zuckerberg-internet       en   \n",
       "9564  zuckerberg-internet       en   \n",
       "\n",
       "                                                  title  grade_level  version  \\\n",
       "0     Tubman, Perkins or Roosevelt? Woman on $10 bil...         12.0        0   \n",
       "1     Americans weigh in to choose the woman who wil...          8.0        1   \n",
       "2     The $10 question: Who will be the new face on ...          6.0        2   \n",
       "3     New $10 bill will have a theme and a woman's p...          5.0        3   \n",
       "4     We will soon have an American woman's face on ...          3.0        4   \n",
       "...                                                 ...          ...      ...   \n",
       "9560  Facebook CEO steps into public issues with glo...         12.0        0   \n",
       "9561  Post this to your page: Facebook CEO wants to ...          9.0        1   \n",
       "9562  Facebook CEO hits \"share\" to help bring the 'N...          7.0        2   \n",
       "9563  Zuckerberg hopes people hit \"like\" on his glob...          5.0        3   \n",
       "9564  Facebook CEO wants worldwide Web to live up to...          4.0        4   \n",
       "\n",
       "                          filename  split simp_level  \n",
       "0      10dollarbill-woman.en.0.txt  train          0  \n",
       "1      10dollarbill-woman.en.1.txt  train          1  \n",
       "2      10dollarbill-woman.en.2.txt  train          2  \n",
       "3      10dollarbill-woman.en.3.txt  train          3  \n",
       "4      10dollarbill-woman.en.4.txt  train          4  \n",
       "...                            ...    ...        ...  \n",
       "9560  zuckerberg-internet.en.0.txt  train          0  \n",
       "9561  zuckerberg-internet.en.1.txt  train          1  \n",
       "9562  zuckerberg-internet.en.2.txt  train          2  \n",
       "9563  zuckerberg-internet.en.3.txt  train          3  \n",
       "9564  zuckerberg-internet.en.4.txt  train          4  \n",
       "\n",
       "[9565 rows x 8 columns]"
      ]
     },
     "execution_count": 2,
     "metadata": {},
     "output_type": "execute_result"
    }
   ],
   "source": [
    "file = '/srv/scratch6/kew/ats/data/en/newsela_article_corpus_2016-01-29/articles_metadata_en_splits.csv'\n",
    "df = pd.read_csv(file, header=0)\n",
    "df['simp_level'] = df['filename'].apply(lambda x: x.split('.')[-2])\n",
    "df"
   ]
  },
  {
   "cell_type": "code",
   "execution_count": 13,
   "id": "082125fc",
   "metadata": {},
   "outputs": [
    {
     "data": {
      "text/plain": [
       "0       False\n",
       "1       False\n",
       "2       False\n",
       "3       False\n",
       "4       False\n",
       "        ...  \n",
       "9560    False\n",
       "9561    False\n",
       "9562    False\n",
       "9563    False\n",
       "9564    False\n",
       "Length: 9565, dtype: bool"
      ]
     },
     "execution_count": 13,
     "metadata": {},
     "output_type": "execute_result"
    }
   ],
   "source": [
    "df['version'] == df['simp_level']"
   ]
  },
  {
   "cell_type": "code",
   "execution_count": 15,
   "id": "1ab18ca5",
   "metadata": {},
   "outputs": [
    {
     "data": {
      "text/plain": [
       "simp_level\n",
       "0    [12.0, 9.0, 8.0, 10.0, 6.0, 11.0]\n",
       "1      [8.0, 9.0, 7.0, 6.0, 10.0, 5.0]\n",
       "2            [6.0, 7.0, 8.0, 5.0, 4.0]\n",
       "3            [5.0, 4.0, 6.0, 3.0, 7.0]\n",
       "4                 [3.0, 2.0, 4.0, 5.0]\n",
       "5                           [2.0, 3.0]\n",
       "Name: grade_level, dtype: object"
      ]
     },
     "execution_count": 15,
     "metadata": {},
     "output_type": "execute_result"
    }
   ],
   "source": [
    "df.groupby('simp_level')['grade_level'].unique()"
   ]
  },
  {
   "cell_type": "code",
   "execution_count": 10,
   "id": "f2d4ad6f",
   "metadata": {},
   "outputs": [
    {
     "data": {
      "text/plain": [
       "split\n",
       "test     [airstrikes-iraq, alienplanet-swim, asteroid-c...\n",
       "train    [10dollarbill-woman, 17century-selfies, 20doll...\n",
       "valid    [asian-modelminority, emergencyresponse-robots...\n",
       "Name: slug, dtype: object"
      ]
     },
     "execution_count": 10,
     "metadata": {},
     "output_type": "execute_result"
    }
   ],
   "source": [
    "df.groupby(['split'])['slug'].unique()"
   ]
  },
  {
   "cell_type": "code",
   "execution_count": 13,
   "id": "9176bfc6",
   "metadata": {},
   "outputs": [
    {
     "data": {
      "text/plain": [
       "train    9490\n",
       "test       50\n",
       "valid      25\n",
       "Name: split, dtype: int64"
      ]
     },
     "execution_count": 13,
     "metadata": {},
     "output_type": "execute_result"
    }
   ],
   "source": [
    "df['split'].value_counts()"
   ]
  },
  {
   "cell_type": "code",
   "execution_count": 14,
   "id": "fb7cbe06",
   "metadata": {},
   "outputs": [
    {
     "data": {
      "text/plain": [
       "1898.0"
      ]
     },
     "execution_count": 14,
     "metadata": {},
     "output_type": "execute_result"
    }
   ],
   "source": [
    "9490 / 5"
   ]
  },
  {
   "cell_type": "code",
   "execution_count": null,
   "id": "77cdba99",
   "metadata": {},
   "outputs": [],
   "source": []
  }
 ],
 "metadata": {
  "kernelspec": {
   "display_name": "Python 3",
   "language": "python",
   "name": "python3"
  },
  "language_info": {
   "codemirror_mode": {
    "name": "ipython",
    "version": 3
   },
   "file_extension": ".py",
   "mimetype": "text/x-python",
   "name": "python",
   "nbconvert_exporter": "python",
   "pygments_lexer": "ipython3",
   "version": "3.7.3"
  }
 },
 "nbformat": 4,
 "nbformat_minor": 5
}
