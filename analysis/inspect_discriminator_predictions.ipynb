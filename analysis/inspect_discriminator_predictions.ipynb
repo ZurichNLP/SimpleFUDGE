{
 "cells": [
  {
   "cell_type": "code",
   "execution_count": 1,
   "id": "9860ff22",
   "metadata": {},
   "outputs": [
    {
     "name": "stdout",
     "output_type": "stream",
     "text": [
      "/home/user/kew/INSTALLS/fudge\n",
      "['/home/user/kew/INSTALLS/fudge/analysis', '/home/user/kew/anaconda3/envs/fudge_s3it/lib/python38.zip', '/home/user/kew/anaconda3/envs/fudge_s3it/lib/python3.8', '/home/user/kew/anaconda3/envs/fudge_s3it/lib/python3.8/lib-dynload', '', '/home/user/kew/anaconda3/envs/fudge_s3it/lib/python3.8/site-packages', '/home/user/kew/INSTALLS/fudge/transformers/src', '/home/user/kew/INSTALLS/easse']\n",
      "['/home/user/kew/INSTALLS/fudge/analysis', '/home/user/kew/INSTALLS/fudge', '/home/user/kew/anaconda3/envs/fudge_s3it/lib/python38.zip', '/home/user/kew/anaconda3/envs/fudge_s3it/lib/python3.8', '/home/user/kew/anaconda3/envs/fudge_s3it/lib/python3.8/lib-dynload', '', '/home/user/kew/anaconda3/envs/fudge_s3it/lib/python3.8/site-packages', '/home/user/kew/INSTALLS/fudge/transformers/src', '/home/user/kew/INSTALLS/easse']\n"
     ]
    }
   ],
   "source": [
    "# HACK: update sys.path for importing from parent directory\n",
    "import os, sys\n",
    "p = os.path.abspath('..')\n",
    "print(p)\n",
    "print(sys.path)\n",
    "sys.path.insert(1, p)\n",
    "print(sys.path)"
   ]
  },
  {
   "cell_type": "code",
   "execution_count": 2,
   "id": "007df669",
   "metadata": {},
   "outputs": [],
   "source": [
    "from types import SimpleNamespace\n",
    "import numpy as np\n",
    "import torch\n",
    "from transformers import AutoTokenizer\n",
    "\n",
    "from model import Model\n",
    "from data import Dataset, collate\n",
    "from util import pad_mask\n",
    "from sklearn.metrics import roc_curve, roc_auc_score\n"
   ]
  },
  {
   "cell_type": "code",
   "execution_count": null,
   "id": "407b273e",
   "metadata": {},
   "outputs": [],
   "source": []
  },
  {
   "cell_type": "code",
   "execution_count": 3,
   "id": "95979488",
   "metadata": {},
   "outputs": [],
   "source": [
    "args = {\n",
    "        'data_dir': '/srv/scratch6/kew/ats/data/en/newsela_article_corpus_2016-01-29/article_sents/',\n",
    "        'model_path_or_name': '/srv/scratch6/kew/ats/fudge/generators/bart_large_paraNMT_filt_fr',\n",
    "#         'save_dir': '/srv/scratch6/kew/ats/fudge/discriminators/newsela4_bart_glove_bkup',\n",
    "#         'ckpt': '/srv/scratch6/kew/ats/fudge/discriminators/newsela4_bart_glove_bkup/model_best.pth.tar',\n",
    "        'save_dir': '/srv/scratch6/kew/ats/fudge/discriminators/wiki100M_bart_glove',\n",
    "        'ckpt': '/srv/scratch6/kew/ats/fudge/discriminators/wiki100M_bart_glove/model_best.pth.tar',\n",
    "        'device': 'cpu',\n",
    "        'task': 'simplify',\n",
    "        'evaluate': True,\n",
    "        'seed': 1,\n",
    "        'batch_size': 2,\n",
    "        }\n",
    "\n",
    "args = SimpleNamespace(**args)\n",
    "\n",
    "# print(args)\n",
    "# print(hasattr(args, 'dataset_info')) #.has_attribute(''))"
   ]
  },
  {
   "cell_type": "code",
   "execution_count": 4,
   "id": "7d986611",
   "metadata": {},
   "outputs": [
    {
     "name": "stdout",
     "output_type": "stream",
     "text": [
      "loading data\n",
      "loaded pre-compiled data splits from /srv/scratch6/kew/ats/fudge/discriminators/wiki100M_bart_glove/dataset_splts.pkl\n",
      "Found exisiting dataset info - loading from file /srv/scratch6/kew/ats/fudge/discriminators/wiki100M_bart_glove/dataset_info\n",
      "Done loading data!\n",
      "Dataset balance:\n",
      "complex / simple instances in train of size 1000005: 499996 / 500009\n",
      "complex / simple instances in val of size 5016: 2503 / 2513\n",
      "complex / simple instances in test of size 5011: 2507 / 2504\n"
     ]
    }
   ],
   "source": [
    "dataset = Dataset(args)"
   ]
  },
  {
   "cell_type": "code",
   "execution_count": 5,
   "id": "1c362586",
   "metadata": {},
   "outputs": [],
   "source": [
    "tokenizer = AutoTokenizer.from_pretrained(args.model_path_or_name)"
   ]
  },
  {
   "cell_type": "code",
   "execution_count": 6,
   "id": "379263ba",
   "metadata": {},
   "outputs": [
    {
     "name": "stdout",
     "output_type": "stream",
     "text": [
      "tensor(0.4203)\n",
      "Namespace(batch_size=128, ckpt=None, data_dir='/srv/scratch6/kew/ats/data/en/wiki_dumps', dataset_info=None, debug=False, device='cuda', epoch_max_len=500000, epochs=12, evaluate=False, glove='glove-wiki-gigaword-300', lr=0.0001, model_path_or_name='/srv/scratch6/kew/ats/fudge/generators/bart_large_paraNMT_filt_fr', num_workers=12, rhyme_info=None, save_dir='/srv/scratch6/kew/ats/fudge/discriminators/wiki100M_bart_glove', seed=1, task='simplify', tgt_level=4, train_print_freq=1000000, validation_freq=1, wandb='simple_fudge')\n"
     ]
    }
   ],
   "source": [
    "checkpoint = torch.load(args.ckpt, map_location=args.device)\n",
    "best_val_metric = checkpoint['best_metric']\n",
    "model_args = checkpoint['args']\n",
    "print(best_val_metric)\n",
    "print(model_args)"
   ]
  },
  {
   "cell_type": "code",
   "execution_count": 7,
   "id": "da389c22",
   "metadata": {},
   "outputs": [
    {
     "data": {
      "text/plain": [
       "Model(\n",
       "  (bart_embed): Embedding(50265, 300, padding_idx=1)\n",
       "  (rnn): LSTM(300, 512, num_layers=3, dropout=0.1)\n",
       "  (out_linear): Linear(in_features=512, out_features=1, bias=True)\n",
       ")"
      ]
     },
     "execution_count": 7,
     "metadata": {},
     "output_type": "execute_result"
    }
   ],
   "source": [
    "model = Model(\n",
    "    model_args, \n",
    "    tokenizer.pad_token_id, \n",
    "    tokenizer.vocab_size,\n",
    "    None\n",
    "    ) # no need to get the glove embeddings when reloading since they're saved in model ckpt anyway\n",
    "\n",
    "model.load_state_dict(checkpoint['state_dict'])\n",
    "model = model.to(args.device)\n",
    "model.eval()\n",
    "# optimizer = torch.optim.Adam(model.parameters(), lr=model_args.lr)\n",
    "# optimizer.load_state_dict(checkpoint['optimizer'])\n",
    "# data_start_index = checkpoint['data_start_index']\n",
    "# print(\"=> loaded checkpoint '{}' (epoch {})\"\n",
    "#     .format(args.ckpt, checkpoint['epoch']))\n"
   ]
  },
  {
   "cell_type": "code",
   "execution_count": 8,
   "id": "167acfc8",
   "metadata": {},
   "outputs": [
    {
     "name": "stdout",
     "output_type": "stream",
     "text": [
      "<torch.utils.data.dataloader.DataLoader object at 0x7f1898674b80>\n"
     ]
    }
   ],
   "source": [
    "loader = dataset.loader('val', num_workers=0)\n",
    "print(loader)"
   ]
  },
  {
   "cell_type": "code",
   "execution_count": 9,
   "id": "206cf496",
   "metadata": {},
   "outputs": [
    {
     "name": "stdout",
     "output_type": "stream",
     "text": [
      "['SPECIAL_TOKENS_ATTRIBUTES', '__annotations__', '__call__', '__class__', '__delattr__', '__dict__', '__dir__', '__doc__', '__eq__', '__format__', '__ge__', '__getattribute__', '__gt__', '__hash__', '__init__', '__init_subclass__', '__le__', '__len__', '__lt__', '__module__', '__ne__', '__new__', '__reduce__', '__reduce_ex__', '__repr__', '__setattr__', '__sizeof__', '__str__', '__subclasshook__', '__weakref__', '_add_tokens', '_additional_special_tokens', '_batch_encode_plus', '_bos_token', '_build_conversation_input_ids', '_cls_token', '_convert_encoding', '_convert_id_to_token', '_convert_token_to_id_with_added_voc', '_create_or_get_repo', '_decode', '_decode_use_source_tokenizer', '_encode_plus', '_eos_token', '_eventual_warn_about_too_long_sequence', '_from_pretrained', '_get_padding_truncation_strategies', '_get_repo_url_from_name', '_mask_token', '_pad', '_pad_token', '_pad_token_type_id', '_processor_class', '_push_to_hub', '_save_pretrained', '_sep_token', '_set_processor_class', '_tokenizer', '_unk_token', 'add_prefix_space', 'add_special_tokens', 'add_tokens', 'additional_special_tokens', 'additional_special_tokens_ids', 'all_special_ids', 'all_special_tokens', 'all_special_tokens_extended', 'as_target_tokenizer', 'backend_tokenizer', 'batch_decode', 'batch_encode_plus', 'bos_token', 'bos_token_id', 'build_inputs_with_special_tokens', 'can_save_slow_tokenizer', 'clean_up_tokenization', 'cls_token', 'cls_token_id', 'convert_ids_to_tokens', 'convert_tokens_to_ids', 'convert_tokens_to_string', 'create_token_type_ids_from_sequences', 'decode', 'decoder', 'deprecation_warnings', 'encode', 'encode_plus', 'eos_token', 'eos_token_id', 'from_pretrained', 'get_added_vocab', 'get_special_tokens_mask', 'get_vocab', 'init_inputs', 'init_kwargs', 'is_fast', 'mask_token', 'mask_token_id', 'max_len_sentences_pair', 'max_len_single_sentence', 'max_model_input_sizes', 'model_input_names', 'model_max_length', 'name_or_path', 'num_special_tokens_to_add', 'pad', 'pad_token', 'pad_token_id', 'pad_token_type_id', 'padding_side', 'prepare_for_model', 'prepare_seq2seq_batch', 'pretrained_init_configuration', 'pretrained_vocab_files_map', 'push_to_hub', 'sanitize_special_tokens', 'save_pretrained', 'save_vocabulary', 'sep_token', 'sep_token_id', 'set_truncation_and_padding', 'slow_tokenizer_class', 'special_tokens_map', 'special_tokens_map_extended', 'tokenize', 'train_new_from_iterator', 'truncate_sequences', 'truncation_side', 'unk_token', 'unk_token_id', 'verbose', 'vocab', 'vocab_files_names', 'vocab_size']\n"
     ]
    }
   ],
   "source": [
    "print(dir(tokenizer))"
   ]
  },
  {
   "cell_type": "code",
   "execution_count": 41,
   "id": "f71b8aed",
   "metadata": {},
   "outputs": [
    {
     "name": "stdout",
     "output_type": "stream",
     "text": [
      "*** input ***\n",
      "['They', 'Ġdo', 'Ġnot', 'Ġtalk', 'Ġabout', 'Ġtheir', 'Ġexperiences', '.']\n",
      "(tensor([[1213,  109,   45, 1067,   59,   49, 3734,    4]]), tensor([8]), tensor([[0]]), tensor([0.]), tensor([[1]]), tensor([1]), tensor([-1]), tensor([-1]), tensor([-1]))\n",
      "\n",
      "MODEL SCORES: [[1.0252163410186768, 2.311413526535034, 2.0452494621276855, 2.6395671367645264, 3.2879037857055664, 3.634249687194824, 2.984743595123291, 3.543301582336426]]\n",
      "TRUE LABELS: [[1, 1, 1, 1, 1, 1, 1, 1]]\n",
      "MODEL LOSS: 0.091523677110672\n",
      "PRED ACC (0.0 Threshold): 1.0\n",
      "NEG PRED LOSS: 1.31326162815094\n",
      "NEG PRED ACC: 0.0\n",
      "POS PRED LOSS: 0.31326165795326233\n",
      "POS PRED LOSS: 1.0\n",
      "\n",
      "8\n",
      "*** input ***\n",
      "['Their', 'Ġexperiences', 'Ġare', 'Ġrendered', 'Ġinvisible', 'Ġin', 'Ġmany', 'Ġways', '.']\n",
      "(tensor([[16837,  3734,    32, 18728, 20731,    11,   171,  1319,     4]]), tensor([9]), tensor([[0]]), tensor([0.]), tensor([[1]]), tensor([0]), tensor([-1]), tensor([-1]), tensor([-1]))\n",
      "\n",
      "MODEL SCORES: [[0.44716396927833557, -0.4290010631084442, 0.6218838095664978, -0.29087594151496887, -0.2884679436683655, -0.29156720638275146, -0.3329794704914093, -0.4934851825237274, 0.24713551998138428]]\n",
      "TRUE LABELS: [[0, 0, 0, 0, 0, 0, 0, 0, 0]]\n",
      "MODEL LOSS: 0.6679413914680481\n",
      "PRED ACC (0.0 Threshold): 0.6666666865348816\n",
      "NEG PRED LOSS: 0.31326165795326233\n",
      "NEG PRED ACC: 1.0\n",
      "POS PRED LOSS: 1.31326162815094\n",
      "POS PRED LOSS: 0.0\n",
      "\n",
      "9\n",
      "*** input ***\n",
      "['They', 'Ġdo', 'Ġnot', 'Ġdiscuss', 'Ġtheir', 'Ġexperiences', 'Ġfor', 'Ġthey', 'Ġbe', 'que', 'ath', 'Ġthese', 'Ġunto', 'Ġothers']\n",
      "(tensor([[ 1213,   109,    45,  2268,    49,  3734,    13,    51,    28,  3407,\n",
      "          2681,   209, 35484,   643]]), tensor([14]), tensor([[0]]), tensor([0.]), tensor([[1]]), tensor([1]), tensor([-1]), tensor([-1]), tensor([-1]))\n",
      "\n",
      "MODEL SCORES: [[1.0252163410186768, 2.311413526535034, 2.0452494621276855, 1.455480933189392, 2.126631259918213, 1.3313273191452026, 1.5222127437591553, 2.1495895385742188, 1.8072329759597778, 1.6221952438354492, 1.6005733013153076, 1.3312768936157227, 1.009376883506775, 0.7732772827148438]]\n",
      "TRUE LABELS: [[1, 1, 1, 1, 1, 1, 1, 1, 1, 1, 1, 1, 1, 1]]\n",
      "MODEL LOSS: 0.20197144150733948\n",
      "PRED ACC (0.0 Threshold): 1.0\n",
      "NEG PRED LOSS: 1.3132617473602295\n",
      "NEG PRED ACC: 0.0\n",
      "POS PRED LOSS: 0.3132616877555847\n",
      "POS PRED LOSS: 1.0\n",
      "\n",
      "14\n",
      "<class 'numpy.ndarray'> (31,)\n"
     ]
    }
   ],
   "source": [
    "criterion = torch.nn.BCEWithLogitsLoss().to(args.device)\n",
    "\n",
    "    \n",
    "def prepare(sent, label):\n",
    "    orig_sent = sent.split()\n",
    "#     print(tokenizer.encode(sent, add_special_tokens=False, return_token_type_ids=False))\n",
    "    toks = tokenizer.encode(sent, add_special_tokens=False, return_tensors=\"pt\")[0]\n",
    "    print('*** input ***')\n",
    "    print(tokenizer.convert_ids_to_tokens(toks))\n",
    "    word_log_prob = 0\n",
    "    future_word = 0\n",
    "    future_word_num_syllables, rhyme_group_index, syllables_to_go = -1, -1, -1 # not required for simplify\n",
    "\n",
    "    pad_id = tokenizer.pad_token_id\n",
    "\n",
    "    example = (\n",
    "        toks, \n",
    "        len(toks), \n",
    "        future_word, \n",
    "        word_log_prob, \n",
    "        pad_id, \n",
    "        label, \n",
    "        syllables_to_go, \n",
    "        future_word_num_syllables, \n",
    "        rhyme_group_index)\n",
    "\n",
    "    batch = collate([example])\n",
    "    print(batch)\n",
    "    print()\n",
    "    \n",
    "    return batch\n",
    "    \n",
    "def score(batch):\n",
    "#     print('*** preds ***')\n",
    "    scores = model(batch[0], lengths=batch[1])\n",
    "    print('MODEL SCORES:', scores.tolist())\n",
    "    \n",
    "    expanded_labels = batch[5].unsqueeze(1).expand(-1, scores.shape[1]) # batch x seq\n",
    "    print('TRUE LABELS:', expanded_labels.tolist())\n",
    "    length_mask = pad_mask(batch[1]).permute(1, 0) # batch x seq\n",
    "    loss = criterion(scores.flatten()[length_mask.flatten()==1], expanded_labels.flatten().float()[length_mask.flatten()==1])\n",
    "    print('MODEL LOSS:', loss.tolist())\n",
    "    acc = ((scores.flatten()[length_mask.flatten()==1] > 0.0) == expanded_labels.flatten().float()[length_mask.flatten()==1]).float().mean()\n",
    "    print('PRED ACC (0.0 Threshold):', acc.tolist())\n",
    "\n",
    "    #####\n",
    "    neg_scores = -torch.ones_like(scores)\n",
    "    print('NEG PRED LOSS:', criterion(neg_scores.flatten()[length_mask.flatten()==1], expanded_labels.flatten().float()[length_mask.flatten()==1]).tolist())\n",
    "    print('NEG PRED ACC:', ((neg_scores.flatten()[length_mask.flatten()==1] > 0.0) == expanded_labels.flatten().float()[length_mask.flatten()==1]).float().mean().tolist())\n",
    "\n",
    "    pos_scores = torch.ones_like(scores)\n",
    "    print('POS PRED LOSS:', criterion(pos_scores.flatten()[length_mask.flatten()==1], expanded_labels.flatten().float()[length_mask.flatten()==1]).tolist())\n",
    "    print('POS PRED LOSS:', ((pos_scores.flatten()[length_mask.flatten()==1] > 0.0) == expanded_labels.flatten().float()[length_mask.flatten()==1]).float().mean().tolist())\n",
    "    print()\n",
    "    \n",
    "    return scores.flatten()[length_mask.flatten()==1].detach().numpy(), expanded_labels.flatten().float()[length_mask.flatten()==1].detach().numpy()\n",
    "\n",
    "\n",
    "examples = [\n",
    "    (\"They do not talk about their experiences.\", 1),\n",
    "    (\"Their experiences are rendered invisible in many ways.\", 0),\n",
    "    (\"They do not discuss their experiences for they bequeath these unto others\", 1)\n",
    "]\n",
    "\n",
    "y_hats, y_labels = [], []\n",
    "\n",
    "for ex in examples:\n",
    "    y_hat, y_label = score(prepare(*ex))\n",
    "    print(len(y_hat))\n",
    "    y_hats.append(y_hat)\n",
    "    y_labels.append(y_label)\n",
    "\n",
    "y_hats = np.concatenate(y_hats, 0)\n",
    "y_labels = np.concatenate(y_labels, 0)\n",
    "\n",
    "print(type(y_hats), y_hats.shape)\n",
    "    \n",
    "    "
   ]
  },
  {
   "cell_type": "code",
   "execution_count": 42,
   "id": "6be3c06a",
   "metadata": {},
   "outputs": [
    {
     "name": "stdout",
     "output_type": "stream",
     "text": [
      "PREDS: [ 1.0252163   2.3114135   2.0452495   2.6395671   3.2879038   3.6342497\n",
      "  2.9847436   3.5433016   0.44716397 -0.42900106  0.6218838  -0.29087594\n",
      " -0.28846794 -0.2915672  -0.33297947 -0.49348518  0.24713552  1.0252163\n",
      "  2.3114135   2.0452495   1.4554809   2.1266313   1.3313273   1.5222127\n",
      "  2.1495895   1.807233    1.6221952   1.6005733   1.3312769   1.0093769\n",
      "  0.7732773 ]\n",
      "FPR: [0. 0. 0. 0. 0. 0. 0. 0. 0. 1.] TPR: [0.         0.04545455 0.22727273 0.31818182 0.40909091 0.5\n",
      " 0.81818182 0.90909091 1.         1.        ] THRESHOLDS: [ 4.6342497   3.6342497   2.6395671   2.3114135   2.1266313   2.0452495\n",
      "  1.3312769   1.0252163   0.7732773  -0.49348518]\n",
      "RANDOM PREDS: [-0.2915672   1.0252163   2.3114135   1.3313273   2.0452495  -0.29087594\n",
      "  3.5433016  -0.33297947  1.5222127  -0.49348518  0.24713552  0.6218838\n",
      "  2.1266313  -0.42900106  1.0093769   2.1495895   3.2879038   0.7732773\n",
      "  2.6395671  -0.28846794  2.9847436   1.4554809   1.0252163   1.807233\n",
      "  2.3114135   1.6005733   2.0452495   1.3312769   3.6342497   1.6221952\n",
      "  0.44716397]\n",
      "[0.         0.04545455 0.09090909 0.09090909 0.18181818 0.27272727\n",
      " 0.27272727 0.36363636 0.5        0.5        0.63636364 0.72727273\n",
      " 0.72727273 0.77272727 0.77272727 0.81818182 0.81818182 1.\n",
      " 1.        ] [0.         0.         0.         0.11111111 0.11111111 0.11111111\n",
      " 0.33333333 0.33333333 0.33333333 0.44444444 0.44444444 0.44444444\n",
      " 0.55555556 0.55555556 0.66666667 0.66666667 0.77777778 0.77777778\n",
      " 1.        ]\n",
      "1.0 0.6060606060606061\n"
     ]
    }
   ],
   "source": [
    "# https://www.analyticsvidhya.com/blog/2020/06/auc-roc-curve-machine-learning/\n",
    "# roc curve for models\n",
    "\n",
    "print('PREDS:', y_hats)\n",
    "fpr1, tpr1, thresh1 = roc_curve(y_labels, y_hats, pos_label=1)\n",
    "print('FPR:', fpr1, 'TPR:', tpr1, 'THRESHOLDS:', thresh1)\n",
    "# fpr2, tpr2, thresh2 = roc_curve(y_label, y_hat, pos_label=1)\n",
    "\n",
    "# roc curve for tpr = fpr \n",
    "# random_probs = [0 for i in range(len(y_labels))]\n",
    "random_probs = np.random.permutation(y_hats)\n",
    "print('RANDOM PREDS:', random_probs)\n",
    "p_fpr, p_tpr, _ = roc_curve(y_labels, random_probs, pos_label=0)\n",
    "print(p_fpr, p_tpr)\n",
    "\n",
    "# auc scores\n",
    "auc_score1 = roc_auc_score(y_labels, y_hats)\n",
    "auc_score2 = roc_auc_score(y_labels, random_probs)\n",
    "print(auc_score1, auc_score2)"
   ]
  },
  {
   "cell_type": "code",
   "execution_count": 43,
   "id": "d8a1bc24",
   "metadata": {},
   "outputs": [
    {
     "data": {
      "text/plain": [
       "<matplotlib.legend.Legend at 0x7f1841c1a460>"
      ]
     },
     "execution_count": 43,
     "metadata": {},
     "output_type": "execute_result"
    },
    {
     "data": {
      "image/png": "[encoded data removed]",
      "text/plain": [
       "<Figure size 576x396 with 1 Axes>"
      ]
     },
     "metadata": {},
     "output_type": "display_data"
    }
   ],
   "source": [
    "# matplotlib\n",
    "import matplotlib.pyplot as plt\n",
    "plt.style.use('seaborn')\n",
    "\n",
    "# plot roc curves\n",
    "plt.plot(fpr1, tpr1, linestyle='--',color='orange', label='M1')\n",
    "# plt.plot(fpr2, tpr2, linestyle='--',color='green', label='KNN')\n",
    "plt.plot(p_fpr, p_tpr, linestyle='--', color='blue')\n",
    "# title\n",
    "plt.title('ROC curve')\n",
    "# x label\n",
    "plt.xlabel('False Positive Rate')\n",
    "# y label\n",
    "plt.ylabel('True Positive rate')\n",
    "\n",
    "plt.legend(loc='best')\n",
    "# plt.savefig('ROC',dpi=300)\n",
    "# plt.show();"
   ]
  },
  {
   "cell_type": "code",
   "execution_count": null,
   "id": "5e865079",
   "metadata": {},
   "outputs": [],
   "source": []
  }
 ],
 "metadata": {
  "kernelspec": {
   "display_name": "Python 3 (ipykernel)",
   "language": "python",
   "name": "python3"
  },
  "language_info": {
   "codemirror_mode": {
    "name": "ipython",
    "version": 3
   },
   "file_extension": ".py",
   "mimetype": "text/x-python",
   "name": "python",
   "nbconvert_exporter": "python",
   "pygments_lexer": "ipython3",
   "version": "3.8.5"
  }
 },
 "nbformat": 4,
 "nbformat_minor": 5
}
